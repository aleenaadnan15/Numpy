{
 "cells": [
  {
   "cell_type": "code",
   "execution_count": 1,
   "metadata": {},
   "outputs": [],
   "source": [
    "import tensorflow "
   ]
  },
  {
   "cell_type": "code",
   "execution_count": 2,
   "metadata": {},
   "outputs": [],
   "source": [
    "from tensorflow.keras.datasets import mnist"
   ]
  },
  {
   "cell_type": "code",
   "execution_count": 3,
   "metadata": {},
   "outputs": [],
   "source": [
    "(train_images, train_labels), (test_images, test_labels) = mnist.load_data()"
   ]
  },
  {
   "cell_type": "code",
   "execution_count": 4,
   "metadata": {},
   "outputs": [
    {
     "data": {
      "text/plain": [
       "(60000, 28, 28)"
      ]
     },
     "execution_count": 4,
     "metadata": {},
     "output_type": "execute_result"
    }
   ],
   "source": [
    "train_images.shape"
   ]
  },
  {
   "cell_type": "code",
   "execution_count": 5,
   "metadata": {},
   "outputs": [
    {
     "data": {
      "text/plain": [
       "60000"
      ]
     },
     "execution_count": 5,
     "metadata": {},
     "output_type": "execute_result"
    }
   ],
   "source": [
    "len(train_labels)"
   ]
  },
  {
   "cell_type": "code",
   "execution_count": 6,
   "metadata": {},
   "outputs": [
    {
     "data": {
      "text/plain": [
       "(10000, 28, 28)"
      ]
     },
     "execution_count": 6,
     "metadata": {},
     "output_type": "execute_result"
    }
   ],
   "source": [
    "test_images.shape"
   ]
  },
  {
   "cell_type": "code",
   "execution_count": 7,
   "metadata": {},
   "outputs": [
    {
     "data": {
      "text/plain": [
       "10000"
      ]
     },
     "execution_count": 7,
     "metadata": {},
     "output_type": "execute_result"
    }
   ],
   "source": [
    "len(test_labels)"
   ]
  },
  {
   "cell_type": "code",
   "execution_count": 8,
   "metadata": {},
   "outputs": [
    {
     "name": "stdout",
     "output_type": "stream",
     "text": [
      "WARNING:tensorflow:From C:\\ProgramData\\Anaconda3\\lib\\site-packages\\tensorflow\\python\\ops\\init_ops.py:1251: calling VarianceScaling.__init__ (from tensorflow.python.ops.init_ops) with dtype is deprecated and will be removed in a future version.\n",
      "Instructions for updating:\n",
      "Call initializer instance with the dtype argument instead of passing it to the constructor\n"
     ]
    }
   ],
   "source": [
    "from tensorflow.keras import models\n",
    "from tensorflow.keras import layers\n",
    "network = models.Sequential()\n",
    "network.add(layers.Dense(512, activation='relu', input_shape=(28 * 28,)))\n",
    "network.add(layers.Dense(10, activation='softmax'))"
   ]
  },
  {
   "cell_type": "code",
   "execution_count": 9,
   "metadata": {},
   "outputs": [],
   "source": [
    "network.compile(optimizer='rmsprop',loss='categorical_crossentropy',metrics=['accuracy'])"
   ]
  },
  {
   "cell_type": "code",
   "execution_count": 10,
   "metadata": {},
   "outputs": [],
   "source": [
    "train_images = train_images.reshape((60000, 28 * 28))\n",
    "train_images = train_images.astype('float32') / 255\n",
    "test_images = test_images.reshape((10000, 28 * 28))\n",
    "test_images = test_images.astype('float32') / 255"
   ]
  },
  {
   "cell_type": "code",
   "execution_count": 12,
   "metadata": {},
   "outputs": [],
   "source": [
    "from tensorflow.keras.utils import to_categorical\n",
    "train_labels = to_categorical(train_labels)\n",
    "test_labels = to_categorical(test_labels)"
   ]
  },
  {
   "cell_type": "code",
   "execution_count": 15,
   "metadata": {},
   "outputs": [
    {
     "name": "stdout",
     "output_type": "stream",
     "text": [
      "Epoch 1/20\n",
      "60000/60000 [==============================] - 4s 66us/sample - loss: 0.0021 - acc: 0.9995\n",
      "Epoch 2/20\n",
      "60000/60000 [==============================] - 4s 68us/sample - loss: 0.0020 - acc: 0.9994\n",
      "Epoch 3/20\n",
      "60000/60000 [==============================] - 4s 66us/sample - loss: 0.0016 - acc: 0.9996\n",
      "Epoch 4/20\n",
      "60000/60000 [==============================] - 4s 67us/sample - loss: 0.0012 - acc: 0.9997\n",
      "Epoch 5/20\n",
      "60000/60000 [==============================] - 4s 68us/sample - loss: 0.0012 - acc: 0.9996\n",
      "Epoch 6/20\n",
      "60000/60000 [==============================] - 4s 67us/sample - loss: 8.3398e-04 - acc: 0.9998\n",
      "Epoch 7/20\n",
      "60000/60000 [==============================] - 4s 70us/sample - loss: 5.4382e-04 - acc: 0.9998\n",
      "Epoch 8/20\n",
      "60000/60000 [==============================] - 4s 69us/sample - loss: 5.0501e-04 - acc: 0.9998\n",
      "Epoch 9/20\n",
      "60000/60000 [==============================] - 4s 70us/sample - loss: 4.1352e-04 - acc: 0.9999\n",
      "Epoch 10/20\n",
      "60000/60000 [==============================] - 4s 69us/sample - loss: 3.5016e-04 - acc: 0.9999\n",
      "Epoch 11/20\n",
      "60000/60000 [==============================] - 4s 68us/sample - loss: 2.3892e-04 - acc: 0.9999\n",
      "Epoch 12/20\n",
      "60000/60000 [==============================] - 5s 77us/sample - loss: 2.9295e-04 - acc: 0.9999\n",
      "Epoch 13/20\n",
      "60000/60000 [==============================] - 4s 74us/sample - loss: 1.5233e-04 - acc: 0.9999\n",
      "Epoch 14/20\n",
      "60000/60000 [==============================] - 4s 68us/sample - loss: 1.3414e-04 - acc: 1.0000\n",
      "Epoch 15/20\n",
      "60000/60000 [==============================] - 4s 70us/sample - loss: 2.6849e-04 - acc: 1.0000\n",
      "Epoch 16/20\n",
      "60000/60000 [==============================] - 4s 68us/sample - loss: 9.0823e-05 - acc: 0.9999\n",
      "Epoch 17/20\n",
      "60000/60000 [==============================] - 4s 70us/sample - loss: 1.1717e-04 - acc: 0.9999\n",
      "Epoch 18/20\n",
      "60000/60000 [==============================] - 4s 68us/sample - loss: 1.1369e-04 - acc: 1.0000\n",
      "Epoch 19/20\n",
      "60000/60000 [==============================] - 4s 68us/sample - loss: 3.2185e-05 - acc: 1.0000\n",
      "Epoch 20/20\n",
      "60000/60000 [==============================] - 4s 71us/sample - loss: 4.6042e-05 - acc: 1.0000\n"
     ]
    },
    {
     "data": {
      "text/plain": [
       "<tensorflow.python.keras.callbacks.History at 0x1e05b2dceb8>"
      ]
     },
     "execution_count": 15,
     "metadata": {},
     "output_type": "execute_result"
    }
   ],
   "source": [
    "network.fit(train_images, train_labels, epochs=20, batch_size=128)"
   ]
  },
  {
   "cell_type": "code",
   "execution_count": 16,
   "metadata": {},
   "outputs": [
    {
     "name": "stdout",
     "output_type": "stream",
     "text": [
      "10000/10000 [==============================] - 1s 62us/sample - loss: 0.1366 - acc: 0.9833\n"
     ]
    }
   ],
   "source": [
    "test_loss, test_acc = network.evaluate(test_images, test_labels)"
   ]
  },
  {
   "cell_type": "code",
   "execution_count": 17,
   "metadata": {},
   "outputs": [
    {
     "name": "stdout",
     "output_type": "stream",
     "text": [
      "0.9833\n"
     ]
    }
   ],
   "source": [
    "print(test_acc)"
   ]
  },
  {
   "cell_type": "code",
   "execution_count": null,
   "metadata": {},
   "outputs": [],
   "source": []
  }
 ],
 "metadata": {
  "kernelspec": {
   "display_name": "Python 3",
   "language": "python",
   "name": "python3"
  },
  "language_info": {
   "codemirror_mode": {
    "name": "ipython",
    "version": 3
   },
   "file_extension": ".py",
   "mimetype": "text/x-python",
   "name": "python",
   "nbconvert_exporter": "python",
   "pygments_lexer": "ipython3",
   "version": "3.7.3"
  }
 },
 "nbformat": 4,
 "nbformat_minor": 2
}
